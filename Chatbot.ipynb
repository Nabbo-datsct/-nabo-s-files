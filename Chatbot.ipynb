{
  "nbformat": 4,
  "nbformat_minor": 0,
  "metadata": {
    "colab": {
      "name": "Chatbot.ipynb",
      "provenance": [],
      "collapsed_sections": [],
      "authorship_tag": "ABX9TyMylPmPfPLIDfGxSCYv/nsC",
      "include_colab_link": true
    },
    "kernelspec": {
      "name": "python3",
      "display_name": "Python 3"
    },
    "language_info": {
      "name": "python"
    }
  },
  "cells": [
    {
      "cell_type": "markdown",
      "metadata": {
        "id": "view-in-github",
        "colab_type": "text"
      },
      "source": [
        "<a href=\"https://colab.research.google.com/github/Nabbo-datsct/-nabo-s-files/blob/master/Chatbot.ipynb\" target=\"_parent\"><img src=\"https://colab.research.google.com/assets/colab-badge.svg\" alt=\"Open In Colab\"/></a>"
      ]
    },
    {
      "cell_type": "code",
      "metadata": {
        "colab": {
          "base_uri": "https://localhost:8080/"
        },
        "id": "xI2IsK_mPUJg",
        "outputId": "70bb4bc7-1936-4dc4-e725-ddb66fa53f0d"
      },
      "source": [
        "pip install newspaper3k"
      ],
      "execution_count": 1,
      "outputs": [
        {
          "output_type": "stream",
          "text": [
            "Requirement already satisfied: newspaper3k in /usr/local/lib/python3.7/dist-packages (0.2.8)\n",
            "Requirement already satisfied: jieba3k>=0.35.1 in /usr/local/lib/python3.7/dist-packages (from newspaper3k) (0.35.1)\n",
            "Requirement already satisfied: requests>=2.10.0 in /usr/local/lib/python3.7/dist-packages (from newspaper3k) (2.23.0)\n",
            "Requirement already satisfied: Pillow>=3.3.0 in /usr/local/lib/python3.7/dist-packages (from newspaper3k) (7.1.2)\n",
            "Requirement already satisfied: python-dateutil>=2.5.3 in /usr/local/lib/python3.7/dist-packages (from newspaper3k) (2.8.1)\n",
            "Requirement already satisfied: feedparser>=5.2.1 in /usr/local/lib/python3.7/dist-packages (from newspaper3k) (6.0.2)\n",
            "Requirement already satisfied: tinysegmenter==0.3 in /usr/local/lib/python3.7/dist-packages (from newspaper3k) (0.3)\n",
            "Requirement already satisfied: tldextract>=2.0.1 in /usr/local/lib/python3.7/dist-packages (from newspaper3k) (3.1.0)\n",
            "Requirement already satisfied: PyYAML>=3.11 in /usr/local/lib/python3.7/dist-packages (from newspaper3k) (3.13)\n",
            "Requirement already satisfied: nltk>=3.2.1 in /usr/local/lib/python3.7/dist-packages (from newspaper3k) (3.2.5)\n",
            "Requirement already satisfied: lxml>=3.6.0 in /usr/local/lib/python3.7/dist-packages (from newspaper3k) (4.2.6)\n",
            "Requirement already satisfied: beautifulsoup4>=4.4.1 in /usr/local/lib/python3.7/dist-packages (from newspaper3k) (4.6.3)\n",
            "Requirement already satisfied: cssselect>=0.9.2 in /usr/local/lib/python3.7/dist-packages (from newspaper3k) (1.1.0)\n",
            "Requirement already satisfied: feedfinder2>=0.0.4 in /usr/local/lib/python3.7/dist-packages (from newspaper3k) (0.0.4)\n",
            "Requirement already satisfied: chardet<4,>=3.0.2 in /usr/local/lib/python3.7/dist-packages (from requests>=2.10.0->newspaper3k) (3.0.4)\n",
            "Requirement already satisfied: idna<3,>=2.5 in /usr/local/lib/python3.7/dist-packages (from requests>=2.10.0->newspaper3k) (2.10)\n",
            "Requirement already satisfied: certifi>=2017.4.17 in /usr/local/lib/python3.7/dist-packages (from requests>=2.10.0->newspaper3k) (2020.12.5)\n",
            "Requirement already satisfied: urllib3!=1.25.0,!=1.25.1,<1.26,>=1.21.1 in /usr/local/lib/python3.7/dist-packages (from requests>=2.10.0->newspaper3k) (1.24.3)\n",
            "Requirement already satisfied: six>=1.5 in /usr/local/lib/python3.7/dist-packages (from python-dateutil>=2.5.3->newspaper3k) (1.15.0)\n",
            "Requirement already satisfied: sgmllib3k in /usr/local/lib/python3.7/dist-packages (from feedparser>=5.2.1->newspaper3k) (1.0.0)\n",
            "Requirement already satisfied: filelock>=3.0.8 in /usr/local/lib/python3.7/dist-packages (from tldextract>=2.0.1->newspaper3k) (3.0.12)\n",
            "Requirement already satisfied: requests-file>=1.4 in /usr/local/lib/python3.7/dist-packages (from tldextract>=2.0.1->newspaper3k) (1.5.1)\n"
          ],
          "name": "stdout"
        }
      ]
    },
    {
      "cell_type": "code",
      "metadata": {
        "id": "rcGCIWvPND2O"
      },
      "source": [
        "#Import the libraries\n",
        "from newspaper import Article     #for scrapping\n",
        "import random\n",
        "import nltk\n",
        "from sklearn.feature_extraction.text import CountVectorizer\n",
        "from sklearn.metrics.pairwise import cosine_similarity\n",
        "import numpy as np\n",
        "import warnings\n",
        "warnings.filterwarnings(\"ignore\")"
      ],
      "execution_count": 2,
      "outputs": []
    },
    {
      "cell_type": "code",
      "metadata": {
        "colab": {
          "base_uri": "https://localhost:8080/"
        },
        "id": "S33ZWp0-OUJn",
        "outputId": "ddab8125-fdf2-40d8-a581-66fa9d981e92"
      },
      "source": [
        "#Download the punkt package\n",
        "nltk.download(\"punkt\", quiet= True)"
      ],
      "execution_count": 3,
      "outputs": [
        {
          "output_type": "execute_result",
          "data": {
            "text/plain": [
              "True"
            ]
          },
          "metadata": {
            "tags": []
          },
          "execution_count": 3
        }
      ]
    },
    {
      "cell_type": "code",
      "metadata": {
        "id": "y6NX4CXxOu1q"
      },
      "source": [
        "#Get the article\n",
        "url= \"http://14.139.244.219/acts/anti-sexual-harassment-cell\"\n",
        "article  = Article(url)\n",
        "article.download()\n",
        "article.parse()\n",
        "article.nlp()\n",
        "corpus = article.text"
      ],
      "execution_count": 13,
      "outputs": []
    },
    {
      "cell_type": "code",
      "metadata": {
        "colab": {
          "base_uri": "https://localhost:8080/"
        },
        "id": "zUcaBWusRMKc",
        "outputId": "f1c5cbaa-5a21-457f-8f84-a6da650aefcb"
      },
      "source": [
        "print(corpus)"
      ],
      "execution_count": 14,
      "outputs": [
        {
          "output_type": "stream",
          "text": [
            "As per the guidelines of UGC and the Supreme Court an Anti Sexual Harassment Cell has been established by the Central University of Rajasthan to provide a healthy and congenial atmosphere to the staff and students of the University. The cell was constituted to meet the four basic objectives:\n",
            "\n",
            "a) To develop the guidelines and norms for a policy against sexual harassment.\n",
            "\n",
            "b) To develop principles and procedures for combating sexual harassment.\n",
            "\n",
            "c) To work out details for the implementation of the policy.\n",
            "\n",
            "d) To prepare a detailed plan of action, both short and long term.\n"
          ],
          "name": "stdout"
        }
      ]
    },
    {
      "cell_type": "code",
      "metadata": {
        "id": "n7FU2nssRYrI"
      },
      "source": [
        "#Tokenizing\n",
        "text = corpus\n",
        "sentences = nltk.sent_tokenize(text)  #the list of all the sentences"
      ],
      "execution_count": 15,
      "outputs": []
    },
    {
      "cell_type": "code",
      "metadata": {
        "colab": {
          "base_uri": "https://localhost:8080/"
        },
        "id": "3O9Qbt4MR1NC",
        "outputId": "6984f8b1-f1e9-4bb1-ead5-d8c66056314a"
      },
      "source": [
        "print(sentences)"
      ],
      "execution_count": 16,
      "outputs": [
        {
          "output_type": "stream",
          "text": [
            "['As per the guidelines of UGC and the Supreme Court an Anti Sexual Harassment Cell has been established by the Central University of Rajasthan to provide a healthy and congenial atmosphere to the staff and students of the University.', 'The cell was constituted to meet the four basic objectives:\\n\\na) To develop the guidelines and norms for a policy against sexual harassment.', 'b) To develop principles and procedures for combating sexual harassment.', 'c) To work out details for the implementation of the policy.', 'd) To prepare a detailed plan of action, both short and long term.']\n"
          ],
          "name": "stdout"
        }
      ]
    },
    {
      "cell_type": "code",
      "metadata": {
        "id": "mEpti2SdR6jO"
      },
      "source": [
        "#A function for returning a random greeting response to user's greetings\n",
        "def greeting_response(text):\n",
        "  text = text.lower()\n",
        "  \n",
        "  #Bot's response:\n",
        "  bot_greets = [\"howdy\", \"hi\", \"hey\",\"hello\", \"hi there!\"]\n",
        "  #User's greeting:\n",
        "  user_greets = [\"howdy\", \"hi\", \"hey\",\"hello\", \"hi there!\",\"wazzup\",\"wassup\"]\n",
        "\n",
        "  for word in text.split():\n",
        "    if word in user_greets:\n",
        "      return(random.choice(bot_greets))"
      ],
      "execution_count": 17,
      "outputs": []
    },
    {
      "cell_type": "code",
      "metadata": {
        "id": "uo18CY8NVFQd"
      },
      "source": [
        "def index_sort(list_):\n",
        "  length = len(list_)\n",
        "  list_index = list(range(0,length))\n",
        "\n",
        "  x = list_\n",
        "  for i in range(length):\n",
        "    for j in range(length): \n",
        "      if x[list_index[i]] > x[list_index[j]]:\n",
        "        t = list_index[i]\n",
        "        list_index[i] = list_index[j]\n",
        "        list_index[j] = t\n",
        "  return list_index"
      ],
      "execution_count": 18,
      "outputs": []
    },
    {
      "cell_type": "code",
      "metadata": {
        "id": "4BSYG5uKTSJi"
      },
      "source": [
        "#Creating bot's responses:\n",
        "def bot_response(user_querry):\n",
        "  user_querry = user_querry.lower()\n",
        "  sentences.append(user_querry)\n",
        "  bot_response = \"\"\n",
        "\n",
        "  cm = CountVectorizer().fit_transform(sentences)\n",
        "  similarity_scores = cosine_similarity(cm[-1],cm)\n",
        "  similarity_scores_list = similarity_scores.flatten()\n",
        "  index = index_sort(similarity_scores_list)\n",
        "\n",
        "  index = index[1:]   #except itself\n",
        "  flag = True\n",
        "\n",
        "  j=0\n",
        "  for i in range(len(index)):\n",
        "    if similarity_scores_list[index[i]] > 0:\n",
        "      bot_response = bot_response + \" \" + sentences[index[i]]\n",
        "      flag = False\n",
        "      j+=1\n",
        "    if j>2:\n",
        "      break\n",
        "  if flag == True:\n",
        "    bot_response = bot_response + \" \" + \"Sorry, I didn't get that.\"\n",
        "    sentences.remove(user_querry)\n",
        "\n",
        "  return bot_response"
      ],
      "execution_count": 19,
      "outputs": []
    },
    {
      "cell_type": "code",
      "metadata": {
        "colab": {
          "base_uri": "https://localhost:8080/"
        },
        "id": "24jKUZo5ZGji",
        "outputId": "7c95428e-0b3c-4d87-8d0b-e691e82d34e9"
      },
      "source": [
        "print(\"Bot: Hi! How can I help you today?\")\n",
        "\n",
        "termination = [\"exit\",\"close\",\"over\",\"quit\",\"bye\",\"see you later\",\"break\"]\n",
        "\n",
        "while(True):\n",
        "  user_querry = input()\n",
        "  if user_querry.lower() in termination:\n",
        "    print(\"Bot: Have a great day! Bye!\")\n",
        "    break\n",
        "  else:\n",
        "    if greeting_response(user_querry) != None:\n",
        "      print(\"Bot:\" + greeting_response(user_querry))\n",
        "    else:\n",
        "      print(\"Bot:\" + bot_response(user_querry))\n"
      ],
      "execution_count": null,
      "outputs": [
        {
          "output_type": "stream",
          "text": [
            "Bot: Hi! How can I help you today?\n",
            "what are the guidelines\n",
            "Bot: The cell was constituted to meet the four basic objectives:\n",
            "\n",
            "a) To develop the guidelines and norms for a policy against sexual harassment. As per the guidelines of UGC and the Supreme Court an Anti Sexual Harassment Cell has been established by the Central University of Rajasthan to provide a healthy and congenial atmosphere to the staff and students of the University. c) To work out details for the implementation of the policy.\n",
            "hi\n",
            "Bot:hey\n",
            "okay\n",
            "Bot: Sorry, I didn't get that.\n",
            "curaj\n",
            "Bot: Sorry, I didn't get that.\n",
            "central \n",
            "Bot: As per the guidelines of UGC and the Supreme Court an Anti Sexual Harassment Cell has been established by the Central University of Rajasthan to provide a healthy and congenial atmosphere to the staff and students of the University.\n"
          ],
          "name": "stdout"
        }
      ]
    }
  ]
}