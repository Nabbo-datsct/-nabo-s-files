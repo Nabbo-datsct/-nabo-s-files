{
  "nbformat": 4,
  "nbformat_minor": 0,
  "metadata": {
    "colab": {
      "name": "row reduced echelon matrix|gaussian elemenation.ipynb",
      "provenance": [],
      "authorship_tag": "ABX9TyPSbYGfKuo8Wee7mAPZAeVm",
      "include_colab_link": true
    },
    "kernelspec": {
      "name": "python3",
      "display_name": "Python 3"
    },
    "language_info": {
      "name": "python"
    }
  },
  "cells": [
    {
      "cell_type": "markdown",
      "metadata": {
        "id": "view-in-github",
        "colab_type": "text"
      },
      "source": [
        "<a href=\"https://colab.research.google.com/github/Nabbo-datsct/-nabo-s-files/blob/master/row_reduced_echelon_matrix%7Cgaussian_elemenation.ipynb\" target=\"_parent\"><img src=\"https://colab.research.google.com/assets/colab-badge.svg\" alt=\"Open In Colab\"/></a>"
      ]
    },
    {
      "cell_type": "code",
      "metadata": {
        "id": "nE7qbmD4ij8g"
      },
      "source": [
        "import numpy as np\n",
        "def list_to_mat(strArr):\n",
        "  elements = []\n",
        "  row=[]\n",
        "\n",
        "  if \"<>\" not in strArr:\n",
        "    elements = [[int(i) for i in strArr]]\n",
        "  else:\n",
        "    for i in (strArr):\n",
        "      if i!=\"<>\":\n",
        "        row.append(int(i))\n",
        "      else:\n",
        "        elements.append(0)\n",
        "        elements[-1]=row\n",
        "        row=[]\n",
        "    elements.append(0)\n",
        "    elements[-1]=row\n",
        "\n",
        "  mat = np.array(elements,dtype=\"float\")\n",
        "  return mat\n",
        "\n",
        "def arranged_mat(ar,t):\n",
        "\n",
        "  r,c=ar.shape\n",
        "  if t==r-1:\n",
        "    return ar\n",
        "  min_col=c\n",
        "  best_row=0\n",
        "  for i in range(t,r):\n",
        "    for j in range(c):\n",
        "      if ar[i,j]!=0:\n",
        "        if j<min_col:\n",
        "          min_col=j\n",
        "          best_row=i\n",
        "        break\n",
        "  \n",
        "  ar[t]=ar[t]+ar[best_row]\n",
        "  ar[best_row]=ar[t]-ar[best_row]\n",
        "  return ar\n",
        "      \n",
        "\n",
        "def RREFMatrix(ar):\n",
        "  r,c=ar.shape\n",
        "  \n",
        "  if (r+c)!=1:\n",
        "    for i in range(r):\n",
        "      for j in range(c):\n",
        "        if ar[i,j]==0:\n",
        "          ar=arranged_mat(ar,i)        \n",
        "        if ar[i,j]!=0:\n",
        "          break\n",
        "      ar[i,:]=ar[i,:]/ar[i,j]\n",
        "      for l in range(r):\n",
        "        if l!=i:\n",
        "          ar[l,:]=ar[l,:]-ar[l,j]*ar[i,:]\n",
        "  \n",
        "  s=\"\"\n",
        "  for i in ar:\n",
        "    for j in i:\n",
        "      s=s+str(int(j))\n",
        "  return s\n"
      ],
      "execution_count": null,
      "outputs": []
    },
    {
      "cell_type": "code",
      "metadata": {
        "colab": {
          "base_uri": "https://localhost:8080/"
        },
        "id": "_lgcmRi6o-3U",
        "outputId": "b8b7ea3b-7ed8-4514-88cb-9a6861967169"
      },
      "source": [
        "l=['2', '4', '8', '<>', '6', '12', '14']\n",
        "# keep this function call here \n",
        "print(RREFMatrix(list_to_mat(l)))"
      ],
      "execution_count": null,
      "outputs": [
        {
          "output_type": "stream",
          "text": [
            "120001\n"
          ],
          "name": "stdout"
        }
      ]
    }
  ]
}