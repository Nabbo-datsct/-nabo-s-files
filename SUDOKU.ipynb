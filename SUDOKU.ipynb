{
  "nbformat": 4,
  "nbformat_minor": 0,
  "metadata": {
    "colab": {
      "name": "SUDOKU.ipynb",
      "provenance": [],
      "authorship_tag": "ABX9TyP7g6oSgrY01z2txVOOA8gk",
      "include_colab_link": true
    },
    "kernelspec": {
      "name": "python3",
      "display_name": "Python 3"
    },
    "language_info": {
      "name": "python"
    }
  },
  "cells": [
    {
      "cell_type": "markdown",
      "metadata": {
        "id": "view-in-github",
        "colab_type": "text"
      },
      "source": [
        "<a href=\"https://colab.research.google.com/github/Nabbo-datsct/-nabo-s-files/blob/master/SUDOKU.ipynb\" target=\"_parent\"><img src=\"https://colab.research.google.com/assets/colab-badge.svg\" alt=\"Open In Colab\"/></a>"
      ]
    },
    {
      "cell_type": "markdown",
      "metadata": {
        "id": "hXfdkS1b0Y52"
      },
      "source": [
        "Sudoku Quadrant Checker\n",
        "Have the function SudokuQuadrantChecker(strArr) read the strArr parameter being passed which will represent a 9x9 Sudoku board of integers ranging from 1 to 9. The rules of Sudoku are to place each of the 9 integers integer in every row and column and not have any integers repeat in the respective row, column, or 3x3 sub-grid. The input strArr will represent a Sudoku board and it will be structured in the following format: [\"(N,N,N,N,N,x,x,x,x)\",\"(...)\",\"(...)\",...)] where N stands for an integer between 1 and 9 and x will stand for an empty cell. Your program will determine if the board is legal; the board also does not necessarily have to be finished. If the board is legal, your program should return the string legal but if it isn't legal, it should return the 3x3 quadrants (separated by commas) where the errors exist. The 3x3 quadrants are numbered from 1 to 9 starting from top-left going to bottom-right.\n",
        "\n",
        "For example, if strArr is: [\"(1,2,3,4,5,6,7,8,1)\",\"(x,x,x,x,x,x,x,x,x)\",\"(x,x,x,x,x,x,x,x,x)\",\"(1,x,x,x,x,x,x,x,x)\",\"(x,x,x,x,x,x,x,x,x)\",\"(x,x,x,x,x,x,x,x,x)\",\"(x,x,x,x,x,x,x,x,x)\",\"(x,x,x,x,x,x,x,x,x)\",\"(x,x,x,x,x,x,x,x,x)\"] then your program should return 1,3,4 since the errors are in quadrants 1, 3 and 4 because of the repeating integer 1.\n",
        "\n",
        "Another example, if strArr is: [\"(1,2,3,4,5,6,7,8,9)\",\"(x,x,x,x,x,x,x,x,x)\",\"(6,x,5,x,3,x,x,4,x)\",\"(2,x,1,1,x,x,x,x,x)\",\"(x,x,x,x,x,x,x,x,x)\",\"(x,x,x,x,x,x,x,x,x)\",\"(x,x,x,x,x,x,x,x,x)\",\"(x,x,x,x,x,x,x,x,x)\",\"(x,x,x,x,x,x,x,x,9)\"] then your program should return 3,4,5,9.\n",
        "Examples\n",
        "Input: [\"(1,2,3,4,5,6,7,8,1)\",\"(x,x,x,x,x,x,x,x,x)\",\"(x,x,x,x,x,x,x,x,x)\",\"(1,x,x,x,x,x,x,x,x)\",\"(x,x,x,x,x,x,x,x,x)\",\"(x,x,x,x,x,x,x,x,x)\",\"(x,x,x,x,x,x,x,x,x)\",\"(x,x,x,x,x,x,x,x,x)\",\"(x,x,x,x,x,x,x,x,x)\"]\n",
        "Output: 1,3,4"
      ]
    },
    {
      "cell_type": "code",
      "metadata": {
        "id": "YabakAcP3V8S"
      },
      "source": [
        "import numpy as np\n",
        "def preprocess(entry):\n",
        "  ls=[[int(i.replace(\"(\",\"\").replace(\")\",\"\").replace(\"x\",\"999\")) for i in st.split(\",\")] for st in entry]\n",
        "  return ls\n",
        "\n",
        "def all_occurence(list_,element):\n",
        "  index=[]\n",
        "  for i in range(len(list_)):\n",
        "    if list_[i] == element:\n",
        "      index.append(i)\n",
        "  return index\n",
        "\n",
        "def SudokuQuadrantChecker(strArr):\n",
        "  strArr=preprocess(strArr)\n",
        "  quads=[]\n",
        "  invalid=[]\n",
        "\n",
        "\n",
        "  q1=[[x,y] for x in range(0,3) for y in range(0,3)]\n",
        "  q2=[[x,y] for x in range(0,3) for y in range(3,6)]\n",
        "  q3=[[x,y] for x in range(0,3) for y in range(6,9)]\n",
        "  q4=[[x,y] for x in range(3,6) for y in range(0,3)]\n",
        "  q5=[[x,y] for x in range(3,6) for y in range(3,6)]\n",
        "  q6=[[x,y] for x in range(3,6) for y in range(6,9)]\n",
        "  q7=[[x,y] for x in range(6,9) for y in range(0,3)]\n",
        "  q8=[[x,y] for x in range(6,9) for y in range(3,6)]\n",
        "  q9=[[x,y] for x in range(6,9) for y in range(6,9)]\n",
        "  quad_ind=[q1,q2,q3,q4,q5,q6,q7,q8,q9]\n",
        "  \n",
        "  #row-wise\n",
        "  for counter in range(9):\n",
        "    for d in set(strArr[counter]):\n",
        "      if d!=999:\n",
        "        ind=all_occurence(strArr[counter],d)\n",
        "        if len(ind)>1:\n",
        "          for c in ind:\n",
        "            invalid.append(0)\n",
        "            invalid[-1]=[counter,c]\n",
        "  #column-wise\n",
        "  for counter in range(9):\n",
        "    strArr_cols=[i[counter] for i in strArr]\n",
        "    for d in set(strArr_cols):\n",
        "      if d!=999:\n",
        "        ind=all_occurence(strArr_cols,d)\n",
        "        if len(ind)>1:\n",
        "          for r in ind:\n",
        "            invalid.append(0)\n",
        "            invalid[-1]=[r,counter]\n",
        "  \n",
        "  for ind_ in invalid:\n",
        "    for i in range(len(quad_ind)):\n",
        "      if ind_ in quad_ind[i]:\n",
        "        quads.append(i+1)\n",
        "        break\n",
        "  \n",
        "  #quadrant-wise\n",
        "  for l in range(len(quad_ind)):\n",
        "    quad_list=[]\n",
        "    for i in quad_ind[l]:\n",
        "      quad_list.append(strArr[i[0]][i[1]])\n",
        "    for d in set(quad_list):\n",
        "      if d!=999:\n",
        "        ind=all_occurence(quad_list,d)\n",
        "        if len(ind)>1:\n",
        "          quads.append(i+1)\n",
        "          break\n",
        "  \n",
        "  \n",
        "  for ind_ in invalid:\n",
        "    for i in range(len(quad_ind)):\n",
        "      if ind_ in quad_ind[i]:\n",
        "        quads.append(i+1)\n",
        "        break\n",
        "\n",
        "\n",
        "    \n",
        "  quads=list(set(quads))\n",
        "\n",
        "        \n",
        "           \n",
        "      \n",
        "  s=\"\"\n",
        "  if len(quads)!=0:\n",
        "    for i in quads:\n",
        "      s=s+\",\"+str(i)\n",
        "    s=s[1:]  # code goes here\n",
        "  else:\n",
        "    s=\"legal\"\n",
        "  return s\n",
        "\n",
        "# keep this function call here \n",
        "print(SudokuQuadrantChecker(input()))"
      ],
      "execution_count": null,
      "outputs": []
    }
  ]
}